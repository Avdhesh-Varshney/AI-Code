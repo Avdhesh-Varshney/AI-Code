{
 "cells": [
  {
   "cell_type": "code",
   "execution_count": 3,
   "metadata": {},
   "outputs": [],
   "source": [
    "import pandas as pd\n",
    "import matplotlib.pyplot as plt\n",
    "from sklearn.model_selection import train_test_split\n",
    "from sklearn.feature_extraction.text import TfidfVectorizer\n",
    "from sklearn.tree import DecisionTreeClassifier\n",
    "from sklearn.ensemble import RandomForestClassifier, AdaBoostClassifier\n",
    "from sklearn.svm import SVC\n",
    "from sklearn.naive_bayes import MultinomialNB\n",
    "from sklearn.metrics import accuracy_score, precision_score, recall_score, f1_score"
   ]
  },
  {
   "cell_type": "code",
   "execution_count": 4,
   "metadata": {},
   "outputs": [
    {
     "data": {
      "text/html": [
       "<div>\n",
       "<style scoped>\n",
       "    .dataframe tbody tr th:only-of-type {\n",
       "        vertical-align: middle;\n",
       "    }\n",
       "\n",
       "    .dataframe tbody tr th {\n",
       "        vertical-align: top;\n",
       "    }\n",
       "\n",
       "    .dataframe thead th {\n",
       "        text-align: right;\n",
       "    }\n",
       "</style>\n",
       "<table border=\"1\" class=\"dataframe\">\n",
       "  <thead>\n",
       "    <tr style=\"text-align: right;\">\n",
       "      <th></th>\n",
       "      <th>Category</th>\n",
       "      <th>Message</th>\n",
       "    </tr>\n",
       "  </thead>\n",
       "  <tbody>\n",
       "    <tr>\n",
       "      <th>0</th>\n",
       "      <td>ham</td>\n",
       "      <td>Go until jurong point, crazy.. Available only ...</td>\n",
       "    </tr>\n",
       "    <tr>\n",
       "      <th>1</th>\n",
       "      <td>ham</td>\n",
       "      <td>Ok lar... Joking wif u oni...</td>\n",
       "    </tr>\n",
       "    <tr>\n",
       "      <th>2</th>\n",
       "      <td>spam</td>\n",
       "      <td>Free entry in 2 a wkly comp to win FA Cup fina...</td>\n",
       "    </tr>\n",
       "    <tr>\n",
       "      <th>3</th>\n",
       "      <td>ham</td>\n",
       "      <td>U dun say so early hor... U c already then say...</td>\n",
       "    </tr>\n",
       "    <tr>\n",
       "      <th>4</th>\n",
       "      <td>ham</td>\n",
       "      <td>Nah I don't think he goes to usf, he lives aro...</td>\n",
       "    </tr>\n",
       "  </tbody>\n",
       "</table>\n",
       "</div>"
      ],
      "text/plain": [
       "  Category                                            Message\n",
       "0      ham  Go until jurong point, crazy.. Available only ...\n",
       "1      ham                      Ok lar... Joking wif u oni...\n",
       "2     spam  Free entry in 2 a wkly comp to win FA Cup fina...\n",
       "3      ham  U dun say so early hor... U c already then say...\n",
       "4      ham  Nah I don't think he goes to usf, he lives aro..."
      ]
     },
     "execution_count": 4,
     "metadata": {},
     "output_type": "execute_result"
    }
   ],
   "source": [
    "data = './mail_data.csv'\n",
    "df = pd.read_csv(data)\n",
    "df.head()"
   ]
  },
  {
   "cell_type": "code",
   "execution_count": 5,
   "metadata": {},
   "outputs": [],
   "source": [
    "#Repllace null values with null string\n",
    "mail_data = df.where((pd.notnull(df)),'')"
   ]
  },
  {
   "cell_type": "code",
   "execution_count": 6,
   "metadata": {},
   "outputs": [],
   "source": [
    "#Label spam as 0 and ham as 1\n",
    "mail_data.loc[mail_data['Category'] == 'spam', 'Category',] = 0\n",
    "mail_data.loc[mail_data['Category'] == 'ham', 'Category',] = 1"
   ]
  },
  {
   "cell_type": "code",
   "execution_count": 7,
   "metadata": {},
   "outputs": [],
   "source": [
    "#Seperate the data as text and labels\n",
    "X = mail_data['Message']\n",
    "Y = mail_data['Category']"
   ]
  },
  {
   "cell_type": "code",
   "execution_count": 8,
   "metadata": {},
   "outputs": [],
   "source": [
    "# Ensure Y is a Pandas Series of integers\n",
    "Y = pd.Series(Y).astype(int)"
   ]
  },
  {
   "cell_type": "code",
   "execution_count": 9,
   "metadata": {},
   "outputs": [
    {
     "name": "stdout",
     "output_type": "stream",
     "text": [
      "Shape of X:(5572,)\n",
      "Shape of Y:(5572,)\n"
     ]
    }
   ],
   "source": [
    "# Print the shapes of X and Y\n",
    "print(f\"Shape of X:{X.shape}\" )\n",
    "print(f\"Shape of Y:{Y.shape}\" )"
   ]
  },
  {
   "cell_type": "code",
   "execution_count": 10,
   "metadata": {},
   "outputs": [],
   "source": [
    "# Split into training and testing\n",
    "X_train, X_test, Y_train, Y_test = train_test_split(X, Y, test_size=0.2, random_state=3)"
   ]
  },
  {
   "cell_type": "code",
   "execution_count": 11,
   "metadata": {},
   "outputs": [],
   "source": [
    "# Vectorize the text data\n",
    "vectorizer = TfidfVectorizer(min_df=1, stop_words='english', lowercase=True)\n",
    "X_train_features = vectorizer.fit_transform(X_train)\n",
    "X_test_features = vectorizer.transform(X_test)"
   ]
  },
  {
   "cell_type": "code",
   "execution_count": 12,
   "metadata": {},
   "outputs": [],
   "source": [
    "# Train models\n",
    "models = {\n",
    "    'SVM': SVC(),\n",
    "    'Decision Tree': DecisionTreeClassifier(),\n",
    "    'Random Forest': RandomForestClassifier(),\n",
    "    'AdaBoost ' : AdaBoostClassifier(),\n",
    "    'Naive Bayes' : MultinomialNB()\n",
    "}\n",
    "\n",
    "trained_models = {}\n",
    "accuracies = {}\n",
    "precisions = {}\n",
    "recalls = {}\n",
    "f1_scores = {}"
   ]
  },
  {
   "cell_type": "code",
   "execution_count": 13,
   "metadata": {},
   "outputs": [
    {
     "name": "stdout",
     "output_type": "stream",
     "text": [
      "Training SVM...\n",
      "SVM Accuracy: 0.98\n",
      "SVM Precision: 0.98\n",
      "SVM Recall: 1.00\n",
      "SVM F1_score: 0.99\n",
      "Training Decision Tree...\n",
      "Decision Tree Accuracy: 0.97\n",
      "Decision Tree Precision: 0.97\n",
      "Decision Tree Recall: 1.00\n",
      "Decision Tree F1_score: 0.98\n",
      "Training Random Forest...\n",
      "Random Forest Accuracy: 0.98\n",
      "Random Forest Precision: 0.97\n",
      "Random Forest Recall: 1.00\n",
      "Random Forest F1_score: 0.99\n",
      "Training AdaBoost ...\n"
     ]
    },
    {
     "name": "stderr",
     "output_type": "stream",
     "text": [
      "c:\\Users\\Lenovo\\AppData\\Local\\Programs\\Python\\Python312\\Lib\\site-packages\\sklearn\\ensemble\\_weight_boosting.py:527: FutureWarning: The SAMME.R algorithm (the default) is deprecated and will be removed in 1.6. Use the SAMME algorithm to circumvent this warning.\n",
      "  warnings.warn(\n"
     ]
    },
    {
     "name": "stdout",
     "output_type": "stream",
     "text": [
      "AdaBoost  Accuracy: 0.97\n",
      "AdaBoost  Precision: 0.97\n",
      "AdaBoost  Recall: 1.00\n",
      "AdaBoost  F1_score: 0.98\n",
      "Training Naive Bayes...\n",
      "Naive Bayes Accuracy: 0.97\n",
      "Naive Bayes Precision: 0.97\n",
      "Naive Bayes Recall: 1.00\n",
      "Naive Bayes F1_score: 0.98\n"
     ]
    }
   ],
   "source": [
    "# Train each model and evaluate\n",
    "for model_name, model in models.items():\n",
    "    print(f\"Training {model_name}...\")\n",
    "    model.fit(X_train_features, Y_train)\n",
    "    predictions = model.predict(X_test_features)\n",
    "    accuracy = accuracy_score(Y_test, predictions)\n",
    "    precision = precision_score(Y_test,predictions)\n",
    "    recall = recall_score(Y_test,predictions)\n",
    "    f1score = f1_score(Y_test,predictions)\n",
    "    accuracies[model_name] = accuracy\n",
    "    precisions[model_name] = precision\n",
    "    recalls [model_name] = recall\n",
    "    f1_scores[model_name] = f1score\n",
    "    trained_models[model_name] = model\n",
    "    print(f\"{model_name} Accuracy: {accuracy:.2f}\")\n",
    "    print(f\"{model_name} Precision: {precision:.2f}\")\n",
    "    print(f\"{model_name} Recall: {recall:.2f}\")\n",
    "    print(f\"{model_name} F1_score: {f1score:.2f}\")"
   ]
  },
  {
   "cell_type": "code",
   "execution_count": 14,
   "metadata": {},
   "outputs": [],
   "source": [
    "# Plot accuracy comparison\n",
    "def plot_accuracies(accuracies):\n",
    "    \"\"\"\n",
    "    Plots a bar chart comparing the accuracies of different models.\n",
    "    \n",
    "    Parameters:\n",
    "    accuracies (dict): Dictionary of model names and their accuracies.\n",
    "    \"\"\"\n",
    "    model_names = list(accuracies.keys())\n",
    "    accuracy_values = list(accuracies.values())\n",
    "\n",
    "    plt.figure(figsize=(8, 6))\n",
    "    plt.bar(model_names, accuracy_values, color=['blue', 'green', 'orange'])\n",
    "    plt.title('Model Accuracy Comparison')\n",
    "    plt.xlabel('Models')\n",
    "    plt.ylabel('Accuracy')\n",
    "    plt.ylim(0, 1)  # Accuracy ranges from 0 to 1\n",
    "    for i, acc in enumerate(accuracy_values):\n",
    "        plt.text(i, acc + 0.02, f\"{acc:.2f}\", ha='center', fontsize=10)\n",
    "    plt.show()\n"
   ]
  },
  {
   "cell_type": "code",
   "execution_count": 15,
   "metadata": {},
   "outputs": [
    {
     "data": {
      "image/png": "[encoded data removed]",
      "text/plain": [
       "<Figure size 800x600 with 1 Axes>"
      ]
     },
     "metadata": {},
     "output_type": "display_data"
    }
   ],
   "source": [
    "# Call the function to plot accuracies\n",
    "plot_accuracies(accuracies)"
   ]
  },
  {
   "cell_type": "code",
   "execution_count": 16,
   "metadata": {},
   "outputs": [],
   "source": [
    "# Function to classify using all models\n",
    "def classify_with_all_models(input_message, trained_models, vectorizer):\n",
    "    \"\"\"\n",
    "    Classify the input message as Spam or Ham using all trained models.\n",
    "    \n",
    "    Parameters:\n",
    "    input_message (str): The message to classify.\n",
    "    trained_models (dict): Dictionary of trained models.\n",
    "    vectorizer (TfidfVectorizer): Fitted vectorizer used for preprocessing.\n",
    "\n",
    "    Returns:\n",
    "    dict: A dictionary containing predictions from each model.\n",
    "    \"\"\"\n",
    "    input_features = vectorizer.transform([input_message])\n",
    "    results = {}\n",
    "    for model_name, model in trained_models.items():\n",
    "        prediction = model.predict(input_features)[0]\n",
    "        results[model_name] = \"Spam\" if prediction == 0 else \"Ham\"\n",
    "    return results"
   ]
  },
  {
   "cell_type": "code",
   "execution_count": 20,
   "metadata": {},
   "outputs": [],
   "source": [
    "# Interactive input classification\n",
    "user_input_message = \"Congratulations! You've won a $1,000 gift card. Click the link to claim your prize: www.fakeprizes.com\"\n",
    " "
   ]
  },
  {
   "cell_type": "code",
   "execution_count": 21,
   "metadata": {},
   "outputs": [],
   "source": [
    "# Classify using all models\n",
    "classification_results = classify_with_all_models(user_input_message, trained_models, vectorizer)"
   ]
  },
  {
   "cell_type": "code",
   "execution_count": 22,
   "metadata": {},
   "outputs": [
    {
     "name": "stdout",
     "output_type": "stream",
     "text": [
      "\n",
      "--- Classification Results ---\n",
      "SVM: Spam\n",
      "Decision Tree: Spam\n",
      "Random Forest: Spam\n",
      "AdaBoost : Spam\n",
      "Naive Bayes: Spam\n"
     ]
    }
   ],
   "source": [
    "# Display results\n",
    "print(\"\\n--- Classification Results ---\")\n",
    "for model_name, result in classification_results.items():\n",
    "    print(f\"{model_name}: {result}\")"
   ]
  }
 ],
 "metadata": {
  "kernelspec": {
   "display_name": "Python 3",
   "language": "python",
   "name": "python3"
  },
  "language_info": {
   "codemirror_mode": {
    "name": "ipython",
    "version": 3
   },
   "file_extension": ".py",
   "mimetype": "text/x-python",
   "name": "python",
   "nbconvert_exporter": "python",
   "pygments_lexer": "ipython3",
   "version": "3.12.1"
  }
 },
 "nbformat": 4,
 "nbformat_minor": 2
}
